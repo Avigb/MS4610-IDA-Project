{
 "cells": [
  {
   "cell_type": "code",
   "execution_count": 1,
   "metadata": {},
   "outputs": [],
   "source": [
    "import pandas as pd\n",
    "import numpy as np\n",
    "from mpl_toolkits import mplot3d\n",
    "import matplotlib.pyplot as plt\n",
    "import seaborn as sns\n",
    "from sklearn.impute import KNNImputer\n",
    "from sklearn.model_selection import train_test_split\n",
    "from sklearn.utils import shuffle\n",
    "from sklearn.decomposition import PCA\n",
    "from sklearn.preprocessing import StandardScaler, MinMaxScaler, MaxAbsScaler, Normalizer\n",
    "from sklearn.svm import SVC\n",
    "from sklearn.tree import DecisionTreeClassifier\n",
    "from sklearn.ensemble import RandomForestClassifier, AdaBoostClassifier\n",
    "from sklearn.neighbors import KNeighborsClassifier\n",
    "from sklearn.naive_bayes import GaussianNB, BernoulliNB, MultinomialNB, ComplementNB\n",
    "from sklearn.pipeline import make_pipeline\n",
    "from sklearn.metrics import accuracy_score, f1_score, confusion_matrix, ConfusionMatrixDisplay\n",
    "from sklearn.cluster import KMeans\n",
    "from tqdm.notebook import tqdm\n",
    "import time\n",
    "\n",
    "from sklearn.pipeline import Pipeline\n",
    "from sklearn.ensemble import VotingClassifier\n",
    "from sklearn.ensemble import BaggingClassifier"
   ]
  },
  {
   "cell_type": "code",
   "execution_count": 187,
   "metadata": {},
   "outputs": [
    {
     "name": "stdout",
     "output_type": "stream",
     "text": [
      "(76097, 261) (76097,)\n"
     ]
    }
   ],
   "source": [
    "imputation = True\n",
    "\n",
    "if imputation == True:\n",
    "    X = pd.read_csv('./IDA project dataset/Imputed_Dataset.csv').drop(['Label'],axis=1)\n",
    "else:\n",
    "    X = pd.read_csv('./IDA project dataset/train_x.csv').drop(['ID'], axis=1)\n",
    "    \n",
    "y = pd.read_csv('./IDA project dataset/train_y.csv').drop(['ID'], axis=1)\n",
    "\n",
    "X['y'] = y\n",
    "\n",
    "X_nona = pd.get_dummies(X.dropna(), columns=['Loan type', 'Occupation type'])\n",
    "y = X_nona['y'].to_numpy()\n",
    "X = X_nona.drop(['y'], axis=1).to_numpy()\n",
    "\n",
    "print(X.shape, y.shape)\n",
    "\n",
    "X_train, X_val, y_train, y_val = train_test_split(X, y, test_size=0.2)"
   ]
  },
  {
   "cell_type": "code",
   "execution_count": 181,
   "metadata": {},
   "outputs": [
    {
     "data": {
      "text/html": [
       "<div>\n",
       "<style scoped>\n",
       "    .dataframe tbody tr th:only-of-type {\n",
       "        vertical-align: middle;\n",
       "    }\n",
       "\n",
       "    .dataframe tbody tr th {\n",
       "        vertical-align: top;\n",
       "    }\n",
       "\n",
       "    .dataframe thead th {\n",
       "        text-align: right;\n",
       "    }\n",
       "</style>\n",
       "<table border=\"1\" class=\"dataframe\">\n",
       "  <thead>\n",
       "    <tr style=\"text-align: right;\">\n",
       "      <th></th>\n",
       "      <th>Expense</th>\n",
       "      <th>Income</th>\n",
       "      <th>Age</th>\n",
       "      <th>Score1</th>\n",
       "      <th>Score2</th>\n",
       "      <th>Score3</th>\n",
       "      <th>Score4</th>\n",
       "      <th>Score5</th>\n",
       "      <th>Loan type</th>\n",
       "      <th>Occupation type</th>\n",
       "    </tr>\n",
       "  </thead>\n",
       "  <tbody>\n",
       "    <tr>\n",
       "      <th>0</th>\n",
       "      <td>1830.943788</td>\n",
       "      <td>14767.28013</td>\n",
       "      <td>1.0</td>\n",
       "      <td>0.016885</td>\n",
       "      <td>205.196182</td>\n",
       "      <td>22.521523</td>\n",
       "      <td>600.911200</td>\n",
       "      <td>3464.613291</td>\n",
       "      <td>0.0</td>\n",
       "      <td>1.0</td>\n",
       "    </tr>\n",
       "    <tr>\n",
       "      <th>1</th>\n",
       "      <td>1645.302546</td>\n",
       "      <td>15272.26775</td>\n",
       "      <td>0.0</td>\n",
       "      <td>0.240375</td>\n",
       "      <td>194.266317</td>\n",
       "      <td>5.349117</td>\n",
       "      <td>600.888816</td>\n",
       "      <td>3374.921455</td>\n",
       "      <td>0.0</td>\n",
       "      <td>1.0</td>\n",
       "    </tr>\n",
       "    <tr>\n",
       "      <th>2</th>\n",
       "      <td>1555.026392</td>\n",
       "      <td>17482.49734</td>\n",
       "      <td>0.0</td>\n",
       "      <td>0.213921</td>\n",
       "      <td>183.529871</td>\n",
       "      <td>-1.054954</td>\n",
       "      <td>598.596944</td>\n",
       "      <td>3331.304886</td>\n",
       "      <td>1.0</td>\n",
       "      <td>1.0</td>\n",
       "    </tr>\n",
       "    <tr>\n",
       "      <th>3</th>\n",
       "      <td>1681.232638</td>\n",
       "      <td>16257.66493</td>\n",
       "      <td>0.0</td>\n",
       "      <td>0.303909</td>\n",
       "      <td>191.228965</td>\n",
       "      <td>6.971750</td>\n",
       "      <td>602.447203</td>\n",
       "      <td>3392.275849</td>\n",
       "      <td>1.0</td>\n",
       "      <td>1.0</td>\n",
       "    </tr>\n",
       "    <tr>\n",
       "      <th>4</th>\n",
       "      <td>1777.648916</td>\n",
       "      <td>16316.29914</td>\n",
       "      <td>1.0</td>\n",
       "      <td>0.300850</td>\n",
       "      <td>224.074728</td>\n",
       "      <td>11.218489</td>\n",
       "      <td>605.947340</td>\n",
       "      <td>3438.864083</td>\n",
       "      <td>0.0</td>\n",
       "      <td>0.0</td>\n",
       "    </tr>\n",
       "    <tr>\n",
       "      <th>5</th>\n",
       "      <td>1523.124500</td>\n",
       "      <td>16622.93724</td>\n",
       "      <td>1.0</td>\n",
       "      <td>0.369899</td>\n",
       "      <td>204.834959</td>\n",
       "      <td>-3.645561</td>\n",
       "      <td>602.787598</td>\n",
       "      <td>3315.891612</td>\n",
       "      <td>0.0</td>\n",
       "      <td>1.0</td>\n",
       "    </tr>\n",
       "    <tr>\n",
       "      <th>6</th>\n",
       "      <td>1560.817726</td>\n",
       "      <td>15917.47219</td>\n",
       "      <td>0.0</td>\n",
       "      <td>0.104027</td>\n",
       "      <td>169.320992</td>\n",
       "      <td>-3.235722</td>\n",
       "      <td>594.224070</td>\n",
       "      <td>3334.102946</td>\n",
       "      <td>1.0</td>\n",
       "      <td>2.0</td>\n",
       "    </tr>\n",
       "    <tr>\n",
       "      <th>7</th>\n",
       "      <td>1713.508753</td>\n",
       "      <td>13528.79379</td>\n",
       "      <td>0.0</td>\n",
       "      <td>0.297326</td>\n",
       "      <td>149.138845</td>\n",
       "      <td>5.000398</td>\n",
       "      <td>597.663724</td>\n",
       "      <td>3407.875016</td>\n",
       "      <td>1.0</td>\n",
       "      <td>2.0</td>\n",
       "    </tr>\n",
       "    <tr>\n",
       "      <th>8</th>\n",
       "      <td>1648.118401</td>\n",
       "      <td>14199.98019</td>\n",
       "      <td>0.0</td>\n",
       "      <td>0.118299</td>\n",
       "      <td>190.691595</td>\n",
       "      <td>13.500508</td>\n",
       "      <td>600.088779</td>\n",
       "      <td>3376.281924</td>\n",
       "      <td>0.0</td>\n",
       "      <td>1.0</td>\n",
       "    </tr>\n",
       "    <tr>\n",
       "      <th>9</th>\n",
       "      <td>1770.176775</td>\n",
       "      <td>15899.76492</td>\n",
       "      <td>1.0</td>\n",
       "      <td>0.069068</td>\n",
       "      <td>202.016131</td>\n",
       "      <td>8.326076</td>\n",
       "      <td>598.336662</td>\n",
       "      <td>3435.253948</td>\n",
       "      <td>0.0</td>\n",
       "      <td>1.0</td>\n",
       "    </tr>\n",
       "  </tbody>\n",
       "</table>\n",
       "</div>"
      ],
      "text/plain": [
       "       Expense       Income  Age    Score1      Score2     Score3      Score4  \\\n",
       "0  1830.943788  14767.28013  1.0  0.016885  205.196182  22.521523  600.911200   \n",
       "1  1645.302546  15272.26775  0.0  0.240375  194.266317   5.349117  600.888816   \n",
       "2  1555.026392  17482.49734  0.0  0.213921  183.529871  -1.054954  598.596944   \n",
       "3  1681.232638  16257.66493  0.0  0.303909  191.228965   6.971750  602.447203   \n",
       "4  1777.648916  16316.29914  1.0  0.300850  224.074728  11.218489  605.947340   \n",
       "5  1523.124500  16622.93724  1.0  0.369899  204.834959  -3.645561  602.787598   \n",
       "6  1560.817726  15917.47219  0.0  0.104027  169.320992  -3.235722  594.224070   \n",
       "7  1713.508753  13528.79379  0.0  0.297326  149.138845   5.000398  597.663724   \n",
       "8  1648.118401  14199.98019  0.0  0.118299  190.691595  13.500508  600.088779   \n",
       "9  1770.176775  15899.76492  1.0  0.069068  202.016131   8.326076  598.336662   \n",
       "\n",
       "        Score5  Loan type  Occupation type  \n",
       "0  3464.613291        0.0              1.0  \n",
       "1  3374.921455        0.0              1.0  \n",
       "2  3331.304886        1.0              1.0  \n",
       "3  3392.275849        1.0              1.0  \n",
       "4  3438.864083        0.0              0.0  \n",
       "5  3315.891612        0.0              1.0  \n",
       "6  3334.102946        1.0              2.0  \n",
       "7  3407.875016        1.0              2.0  \n",
       "8  3376.281924        0.0              1.0  \n",
       "9  3435.253948        0.0              1.0  "
      ]
     },
     "execution_count": 181,
     "metadata": {},
     "output_type": "execute_result"
    }
   ],
   "source": [
    "X_imp = pd.read_csv('./IDA project dataset/Imputed_Dataset.csv').drop(['Label'],axis=1)\n",
    "X_imp.head(10)"
   ]
  },
  {
   "cell_type": "code",
   "execution_count": 185,
   "metadata": {},
   "outputs": [
    {
     "data": {
      "text/html": [
       "<div>\n",
       "<style scoped>\n",
       "    .dataframe tbody tr th:only-of-type {\n",
       "        vertical-align: middle;\n",
       "    }\n",
       "\n",
       "    .dataframe tbody tr th {\n",
       "        vertical-align: top;\n",
       "    }\n",
       "\n",
       "    .dataframe thead th {\n",
       "        text-align: right;\n",
       "    }\n",
       "</style>\n",
       "<table border=\"1\" class=\"dataframe\">\n",
       "  <thead>\n",
       "    <tr style=\"text-align: right;\">\n",
       "      <th></th>\n",
       "      <th>Expense</th>\n",
       "      <th>Income</th>\n",
       "      <th>Age</th>\n",
       "      <th>Score1</th>\n",
       "      <th>Score2</th>\n",
       "      <th>Score3</th>\n",
       "      <th>Score4</th>\n",
       "      <th>Score5</th>\n",
       "      <th>y</th>\n",
       "      <th>Loan type_A</th>\n",
       "      <th>Loan type_B</th>\n",
       "      <th>Occupation type_X</th>\n",
       "      <th>Occupation type_Y</th>\n",
       "      <th>Occupation type_Z</th>\n",
       "    </tr>\n",
       "  </thead>\n",
       "  <tbody>\n",
       "    <tr>\n",
       "      <th>0</th>\n",
       "      <td>1830.943788</td>\n",
       "      <td>14767.28013</td>\n",
       "      <td>1.0</td>\n",
       "      <td>0.016885</td>\n",
       "      <td>205.196182</td>\n",
       "      <td>22.521523</td>\n",
       "      <td>600.911200</td>\n",
       "      <td>3464.613291</td>\n",
       "      <td>0.0</td>\n",
       "      <td>0</td>\n",
       "      <td>1</td>\n",
       "      <td>0</td>\n",
       "      <td>1</td>\n",
       "      <td>0</td>\n",
       "    </tr>\n",
       "    <tr>\n",
       "      <th>1</th>\n",
       "      <td>1645.302546</td>\n",
       "      <td>15272.26775</td>\n",
       "      <td>0.0</td>\n",
       "      <td>0.240375</td>\n",
       "      <td>194.266317</td>\n",
       "      <td>5.349117</td>\n",
       "      <td>600.888816</td>\n",
       "      <td>3374.921455</td>\n",
       "      <td>0.0</td>\n",
       "      <td>0</td>\n",
       "      <td>1</td>\n",
       "      <td>0</td>\n",
       "      <td>1</td>\n",
       "      <td>0</td>\n",
       "    </tr>\n",
       "    <tr>\n",
       "      <th>2</th>\n",
       "      <td>1555.026392</td>\n",
       "      <td>17482.49734</td>\n",
       "      <td>0.0</td>\n",
       "      <td>0.213921</td>\n",
       "      <td>183.529871</td>\n",
       "      <td>-1.054954</td>\n",
       "      <td>598.596944</td>\n",
       "      <td>3331.304886</td>\n",
       "      <td>0.0</td>\n",
       "      <td>1</td>\n",
       "      <td>0</td>\n",
       "      <td>0</td>\n",
       "      <td>1</td>\n",
       "      <td>0</td>\n",
       "    </tr>\n",
       "    <tr>\n",
       "      <th>5</th>\n",
       "      <td>1523.124500</td>\n",
       "      <td>16622.93724</td>\n",
       "      <td>1.0</td>\n",
       "      <td>0.369899</td>\n",
       "      <td>204.834959</td>\n",
       "      <td>-3.645561</td>\n",
       "      <td>602.787598</td>\n",
       "      <td>3315.891612</td>\n",
       "      <td>0.0</td>\n",
       "      <td>0</td>\n",
       "      <td>1</td>\n",
       "      <td>0</td>\n",
       "      <td>1</td>\n",
       "      <td>0</td>\n",
       "    </tr>\n",
       "    <tr>\n",
       "      <th>6</th>\n",
       "      <td>1560.817726</td>\n",
       "      <td>15917.47219</td>\n",
       "      <td>0.0</td>\n",
       "      <td>0.104027</td>\n",
       "      <td>169.320992</td>\n",
       "      <td>-3.235722</td>\n",
       "      <td>594.224070</td>\n",
       "      <td>3334.102946</td>\n",
       "      <td>0.0</td>\n",
       "      <td>1</td>\n",
       "      <td>0</td>\n",
       "      <td>0</td>\n",
       "      <td>0</td>\n",
       "      <td>1</td>\n",
       "    </tr>\n",
       "    <tr>\n",
       "      <th>7</th>\n",
       "      <td>1713.508753</td>\n",
       "      <td>13528.79379</td>\n",
       "      <td>0.0</td>\n",
       "      <td>0.297326</td>\n",
       "      <td>149.138845</td>\n",
       "      <td>5.000398</td>\n",
       "      <td>597.663724</td>\n",
       "      <td>3407.875016</td>\n",
       "      <td>0.0</td>\n",
       "      <td>1</td>\n",
       "      <td>0</td>\n",
       "      <td>0</td>\n",
       "      <td>0</td>\n",
       "      <td>1</td>\n",
       "    </tr>\n",
       "    <tr>\n",
       "      <th>10</th>\n",
       "      <td>1893.876333</td>\n",
       "      <td>15961.48736</td>\n",
       "      <td>1.0</td>\n",
       "      <td>0.173393</td>\n",
       "      <td>200.266608</td>\n",
       "      <td>7.026415</td>\n",
       "      <td>599.431102</td>\n",
       "      <td>3495.018903</td>\n",
       "      <td>1.0</td>\n",
       "      <td>0</td>\n",
       "      <td>1</td>\n",
       "      <td>0</td>\n",
       "      <td>0</td>\n",
       "      <td>1</td>\n",
       "    </tr>\n",
       "    <tr>\n",
       "      <th>11</th>\n",
       "      <td>1657.701614</td>\n",
       "      <td>15312.65398</td>\n",
       "      <td>1.0</td>\n",
       "      <td>0.136250</td>\n",
       "      <td>212.479594</td>\n",
       "      <td>6.174057</td>\n",
       "      <td>600.374454</td>\n",
       "      <td>3380.912016</td>\n",
       "      <td>0.0</td>\n",
       "      <td>0</td>\n",
       "      <td>1</td>\n",
       "      <td>0</td>\n",
       "      <td>1</td>\n",
       "      <td>0</td>\n",
       "    </tr>\n",
       "    <tr>\n",
       "      <th>12</th>\n",
       "      <td>1981.609217</td>\n",
       "      <td>14365.93282</td>\n",
       "      <td>0.0</td>\n",
       "      <td>-0.080880</td>\n",
       "      <td>187.157731</td>\n",
       "      <td>32.634985</td>\n",
       "      <td>599.445461</td>\n",
       "      <td>3537.406700</td>\n",
       "      <td>0.0</td>\n",
       "      <td>1</td>\n",
       "      <td>0</td>\n",
       "      <td>1</td>\n",
       "      <td>0</td>\n",
       "      <td>0</td>\n",
       "    </tr>\n",
       "    <tr>\n",
       "      <th>14</th>\n",
       "      <td>1436.546259</td>\n",
       "      <td>16523.48807</td>\n",
       "      <td>0.0</td>\n",
       "      <td>0.266537</td>\n",
       "      <td>189.491426</td>\n",
       "      <td>-3.945540</td>\n",
       "      <td>599.717859</td>\n",
       "      <td>3274.061676</td>\n",
       "      <td>0.0</td>\n",
       "      <td>1</td>\n",
       "      <td>0</td>\n",
       "      <td>0</td>\n",
       "      <td>1</td>\n",
       "      <td>0</td>\n",
       "    </tr>\n",
       "  </tbody>\n",
       "</table>\n",
       "</div>"
      ],
      "text/plain": [
       "        Expense       Income  Age    Score1      Score2     Score3  \\\n",
       "0   1830.943788  14767.28013  1.0  0.016885  205.196182  22.521523   \n",
       "1   1645.302546  15272.26775  0.0  0.240375  194.266317   5.349117   \n",
       "2   1555.026392  17482.49734  0.0  0.213921  183.529871  -1.054954   \n",
       "5   1523.124500  16622.93724  1.0  0.369899  204.834959  -3.645561   \n",
       "6   1560.817726  15917.47219  0.0  0.104027  169.320992  -3.235722   \n",
       "7   1713.508753  13528.79379  0.0  0.297326  149.138845   5.000398   \n",
       "10  1893.876333  15961.48736  1.0  0.173393  200.266608   7.026415   \n",
       "11  1657.701614  15312.65398  1.0  0.136250  212.479594   6.174057   \n",
       "12  1981.609217  14365.93282  0.0 -0.080880  187.157731  32.634985   \n",
       "14  1436.546259  16523.48807  0.0  0.266537  189.491426  -3.945540   \n",
       "\n",
       "        Score4       Score5    y  Loan type_A  Loan type_B  Occupation type_X  \\\n",
       "0   600.911200  3464.613291  0.0            0            1                  0   \n",
       "1   600.888816  3374.921455  0.0            0            1                  0   \n",
       "2   598.596944  3331.304886  0.0            1            0                  0   \n",
       "5   602.787598  3315.891612  0.0            0            1                  0   \n",
       "6   594.224070  3334.102946  0.0            1            0                  0   \n",
       "7   597.663724  3407.875016  0.0            1            0                  0   \n",
       "10  599.431102  3495.018903  1.0            0            1                  0   \n",
       "11  600.374454  3380.912016  0.0            0            1                  0   \n",
       "12  599.445461  3537.406700  0.0            1            0                  1   \n",
       "14  599.717859  3274.061676  0.0            1            0                  0   \n",
       "\n",
       "    Occupation type_Y  Occupation type_Z  \n",
       "0                   1                  0  \n",
       "1                   1                  0  \n",
       "2                   1                  0  \n",
       "5                   1                  0  \n",
       "6                   0                  1  \n",
       "7                   0                  1  \n",
       "10                  0                  1  \n",
       "11                  1                  0  \n",
       "12                  0                  0  \n",
       "14                  1                  0  "
      ]
     },
     "execution_count": 185,
     "metadata": {},
     "output_type": "execute_result"
    }
   ],
   "source": [
    "X_nona.head(10)"
   ]
  },
  {
   "cell_type": "code",
   "execution_count": 32,
   "metadata": {},
   "outputs": [],
   "source": [
    "pca = PCA(n_components=5)\n",
    "X_train_pca = pca.fit_transform(X_train)\n",
    "X_val_pca = pca.transform(X_val)\n",
    "var = pca.explained_variance_ratio_\n"
   ]
  },
  {
   "cell_type": "markdown",
   "metadata": {},
   "source": [
    "### Decision Tree "
   ]
  },
  {
   "cell_type": "code",
   "execution_count": 35,
   "metadata": {},
   "outputs": [],
   "source": [
    "weight_1 = 1\n",
    "min_samples_leaf = 11\n",
    "\n",
    "X_train_pca_1 = X_train_pca[y_train==1]\n",
    "X_train_pca_0 = X_train_pca[y_train==0]\n",
    "\n",
    "X_train_norm = np.concatenate((X_train_pca_0,  np.tile(X_train_pca_1, (weight_1, 1))), axis=0)\n",
    "                             \n",
    "y_train_norm = np.concatenate((np.zeros(X_train_pca_0.shape[0]), np.ones(weight_1*X_train_pca_1.shape[0])), axis=0)\n",
    "                              \n",
    "X_train_norm, y_train_norm = shuffle(X_train_norm, y_train_norm, random_state=0)"
   ]
  },
  {
   "cell_type": "code",
   "execution_count": 36,
   "metadata": {},
   "outputs": [
    {
     "name": "stdout",
     "output_type": "stream",
     "text": [
      "0.9816002700877785 0.849862258953168\n"
     ]
    }
   ],
   "source": [
    "clf1 = make_pipeline(StandardScaler(), DecisionTreeClassifier(min_samples_leaf=11))  #\n",
    "# clf1.fit(X_train_norm, y_train_norm)\n",
    "# y_val_pred = clf1.predict(X_val_pca)\n",
    "# val_acc = accuracy_score(y_val, y_val_pred)\n",
    "# val_f1 = f1_score(y_val, y_val_pred)\n",
    "# print(val_acc,val_f1)"
   ]
  },
  {
   "cell_type": "markdown",
   "metadata": {},
   "source": [
    "# KNN "
   ]
  },
  {
   "cell_type": "code",
   "execution_count": 168,
   "metadata": {},
   "outputs": [],
   "source": [
    "weight_2 = 2\n",
    "k = 9\n",
    "\n",
    "X_train_pca_1 = X_train_pca[y_train==1]\n",
    "X_train_pca_0 = X_train_pca[y_train==0]\n",
    "\n",
    "X_train_norm = np.concatenate((X_train_pca_0,  np.tile(X_train_pca_1, (weight_2, 1))), axis=0)\n",
    "                             \n",
    "y_train_norm = np.concatenate((np.zeros(X_train_pca_0.shape[0]), np.ones(weight_2*X_train_pca_1.shape[0])), axis=0)\n",
    "                              \n",
    "X_train_norm, y_train_norm = shuffle(X_train_norm, y_train_norm, random_state=0)"
   ]
  },
  {
   "cell_type": "code",
   "execution_count": 38,
   "metadata": {},
   "outputs": [],
   "source": [
    "clf2 = make_pipeline(StandardScaler(), KNeighborsClassifier(n_neighbors=9, weights='uniform'))  #StandardScaler(),\n",
    "# clf.fit(X_train_norm, y_train_norm)\n",
    "# y_val_pred = clf.predict(X_val_pca)\n",
    "\n",
    "# val_acc = accuracy_score(y_val, y_val_pred)\n",
    "# val_f1 = f1_score(y_val, y_val_pred)\n",
    "# print(val_acc,val_f1)"
   ]
  },
  {
   "cell_type": "markdown",
   "metadata": {},
   "source": [
    "# SVC"
   ]
  },
  {
   "cell_type": "code",
   "execution_count": 62,
   "metadata": {},
   "outputs": [],
   "source": [
    "weight_3 = 2\n",
    "C = 10\n",
    "gamma = 1\n",
    "\n",
    "\n",
    "X_train_pca_1 = X_train_pca[y_train==1]\n",
    "X_train_pca_0 = X_train_pca[y_train==0]\n",
    "\n",
    "X_train_norm = np.concatenate((X_train_pca_0,  np.tile(X_train_pca_1, (weight_3, 1))), axis=0)\n",
    "                             \n",
    "y_train_norm = np.concatenate((np.zeros(X_train_pca_0.shape[0]), np.ones(weight_3*X_train_pca_1.shape[0])), axis=0)\n",
    "\n",
    "X_train_norm, y_train_norm = shuffle(X_train_norm, y_train_norm, random_state=0)"
   ]
  },
  {
   "cell_type": "code",
   "execution_count": 37,
   "metadata": {},
   "outputs": [],
   "source": [
    "clf3 = make_pipeline(StandardScaler(), SVC(kernel='rbf', C=10, gamma=1, probability=True))  #StandardScaler(), \n",
    "# clf.fit(X_train_norm, y_train_norm)\n",
    "# y_val_pred = clf.predict(X_val_pca)\n",
    "\n",
    "\n",
    "# val_acc = accuracy_score(y_val, y_val_pred)\n",
    "# val_f1 = f1_score(y_val, y_val_pred)"
   ]
  },
  {
   "cell_type": "code",
   "execution_count": 64,
   "metadata": {},
   "outputs": [
    {
     "name": "stdout",
     "output_type": "stream",
     "text": [
      "0.987677245104659 0.9014844804318489\n"
     ]
    }
   ],
   "source": [
    "print(val_acc,val_f1)"
   ]
  },
  {
   "cell_type": "markdown",
   "metadata": {},
   "source": [
    "# Ensembles"
   ]
  },
  {
   "cell_type": "code",
   "execution_count": null,
   "metadata": {},
   "outputs": [],
   "source": [
    "clf_bag1 = BaggingClassifier(base_estimator=clf1,n_estimators=10, random_state=0)"
   ]
  },
  {
   "cell_type": "code",
   "execution_count": null,
   "metadata": {},
   "outputs": [],
   "source": []
  },
  {
   "cell_type": "code",
   "execution_count": null,
   "metadata": {},
   "outputs": [],
   "source": []
  },
  {
   "cell_type": "code",
   "execution_count": null,
   "metadata": {},
   "outputs": [],
   "source": []
  },
  {
   "cell_type": "code",
   "execution_count": null,
   "metadata": {},
   "outputs": [],
   "source": []
  },
  {
   "cell_type": "code",
   "execution_count": null,
   "metadata": {},
   "outputs": [],
   "source": []
  },
  {
   "cell_type": "markdown",
   "metadata": {},
   "source": [
    "# Boosting"
   ]
  },
  {
   "cell_type": "code",
   "execution_count": 147,
   "metadata": {},
   "outputs": [],
   "source": [
    "boost  =  AdaBoostClassifier(base_estimator= DecisionTreeClassifier(max_depth=12), n_estimators=100,random_state=0)"
   ]
  },
  {
   "cell_type": "code",
   "execution_count": 148,
   "metadata": {},
   "outputs": [],
   "source": [
    "scaler = StandardScaler()\n",
    "X_train_trans = scaler.fit_transform(X_train_pca)\n",
    "X_val_trans = scaler.transform(X_val_pca)"
   ]
  },
  {
   "cell_type": "code",
   "execution_count": 149,
   "metadata": {},
   "outputs": [
    {
     "data": {
      "text/plain": [
       "AdaBoostClassifier(base_estimator=DecisionTreeClassifier(max_depth=12),\n",
       "                   n_estimators=100, random_state=0)"
      ]
     },
     "execution_count": 149,
     "metadata": {},
     "output_type": "execute_result"
    }
   ],
   "source": [
    "boost.fit(X_train_trans,y_train)"
   ]
  },
  {
   "cell_type": "code",
   "execution_count": 150,
   "metadata": {},
   "outputs": [
    {
     "name": "stdout",
     "output_type": "stream",
     "text": [
      "0.9872552329507089 0.894773519163763\n"
     ]
    }
   ],
   "source": [
    "y_val_pred = boost.predict(X_val_trans)\n",
    "\n",
    "\n",
    "val_acc = accuracy_score(y_val, y_val_pred)\n",
    "val_f1 = f1_score(y_val, y_val_pred)\n",
    "print(val_acc,val_f1)"
   ]
  },
  {
   "cell_type": "code",
   "execution_count": 151,
   "metadata": {},
   "outputs": [],
   "source": [
    "clf4 = make_pipeline(StandardScaler(), AdaBoostClassifier(base_estimator= DecisionTreeClassifier(max_depth=12), n_estimators=100,random_state=0))"
   ]
  },
  {
   "cell_type": "markdown",
   "metadata": {},
   "source": [
    "# Voting"
   ]
  },
  {
   "cell_type": "code",
   "execution_count": 165,
   "metadata": {},
   "outputs": [],
   "source": [
    "clf_en = VotingClassifier(estimators=[('tree', clf4), ('knn', clf2), ('SVC', clf3)], voting='soft',weights=[1.5,1,2])"
   ]
  },
  {
   "cell_type": "code",
   "execution_count": 166,
   "metadata": {},
   "outputs": [],
   "source": [
    "weight = 1\n",
    "\n",
    "X_train_pca_1 = X_train_pca[y_train==1]\n",
    "X_train_pca_0 = X_train_pca[y_train==0]\n",
    "\n",
    "X_train_norm = np.concatenate((X_train_pca_0,  np.tile(X_train_pca_1, (weight, 1))), axis=0)\n",
    "                             \n",
    "y_train_norm = np.concatenate((np.zeros(X_train_pca_0.shape[0]), np.ones(weight*X_train_pca_1.shape[0])), axis=0)\n",
    "\n",
    "X_train_norm, y_train_norm = shuffle(X_train_norm, y_train_norm, random_state=0)"
   ]
  },
  {
   "cell_type": "code",
   "execution_count": 167,
   "metadata": {},
   "outputs": [
    {
     "data": {
      "text/plain": [
       "VotingClassifier(estimators=[('tree',\n",
       "                              Pipeline(steps=[('standardscaler',\n",
       "                                               StandardScaler()),\n",
       "                                              ('adaboostclassifier',\n",
       "                                               AdaBoostClassifier(base_estimator=DecisionTreeClassifier(max_depth=12),\n",
       "                                                                  n_estimators=100,\n",
       "                                                                  random_state=0))])),\n",
       "                             ('knn',\n",
       "                              Pipeline(steps=[('standardscaler',\n",
       "                                               StandardScaler()),\n",
       "                                              ('kneighborsclassifier',\n",
       "                                               KNeighborsClassifier(n_neighbors=9))])),\n",
       "                             ('SVC',\n",
       "                              Pipeline(steps=[('standardscaler',\n",
       "                                               StandardScaler()),\n",
       "                                              ('svc',\n",
       "                                               SVC(C=10, gamma=1,\n",
       "                                                   probability=True))]))],\n",
       "                 voting='soft', weights=[1.5, 1, 2])"
      ]
     },
     "execution_count": 167,
     "metadata": {},
     "output_type": "execute_result"
    }
   ],
   "source": [
    "clf_en.fit(X_train_pca,y_train)"
   ]
  },
  {
   "cell_type": "code",
   "execution_count": 168,
   "metadata": {},
   "outputs": [
    {
     "name": "stdout",
     "output_type": "stream",
     "text": [
      "0.988268062120189 0.9030006978367062\n"
     ]
    }
   ],
   "source": [
    "y_val_pred = clf_en.predict(X_val_pca)\n",
    "\n",
    "\n",
    "val_acc = accuracy_score(y_val, y_val_pred)\n",
    "val_f1 = f1_score(y_val, y_val_pred)\n",
    "print(val_acc,val_f1)"
   ]
  },
  {
   "cell_type": "code",
   "execution_count": 160,
   "metadata": {},
   "outputs": [
    {
     "data": {
      "text/plain": [
       "(47390, 5)"
      ]
     },
     "execution_count": 160,
     "metadata": {},
     "output_type": "execute_result"
    }
   ],
   "source": [
    "X_train_pca.shape"
   ]
  },
  {
   "cell_type": "code",
   "execution_count": null,
   "metadata": {},
   "outputs": [],
   "source": []
  }
 ],
 "metadata": {
  "kernelspec": {
   "display_name": "Python 3",
   "language": "python",
   "name": "python3"
  },
  "language_info": {
   "codemirror_mode": {
    "name": "ipython",
    "version": 3
   },
   "file_extension": ".py",
   "mimetype": "text/x-python",
   "name": "python",
   "nbconvert_exporter": "python",
   "pygments_lexer": "ipython3",
   "version": "3.8.3"
  }
 },
 "nbformat": 4,
 "nbformat_minor": 4
}
